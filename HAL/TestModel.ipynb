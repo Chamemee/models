{
 "cells": [
  {
   "cell_type": "code",
   "execution_count": 1,
   "metadata": {
    "collapsed": false
   },
   "outputs": [],
   "source": [
    "%load_ext autoreload\n",
    "%autoreload 2"
   ]
  },
  {
   "cell_type": "code",
   "execution_count": 2,
   "metadata": {
    "collapsed": true,
    "deletable": true,
    "editable": true
   },
   "outputs": [],
   "source": [
    "from dataloader import SplicingKmerDataset"
   ]
  },
  {
   "cell_type": "code",
   "execution_count": 3,
   "metadata": {
    "collapsed": true,
    "deletable": true,
    "editable": true
   },
   "outputs": [],
   "source": [
    "from kipoi.data import DataLoader\n",
    "from kipoi.data_utils import numpy_collate"
   ]
  },
  {
   "cell_type": "code",
   "execution_count": 4,
   "metadata": {
    "collapsed": false
   },
   "outputs": [],
   "source": [
    "from model import HALModel"
   ]
  },
  {
   "cell_type": "code",
   "execution_count": 5,
   "metadata": {
    "collapsed": true,
    "deletable": true,
    "editable": true
   },
   "outputs": [],
   "source": [
    "fasta = \"/s/genomes/human/hg19/ensembl_GRCh37.p13_release75/Homo_sapiens.GRCh37.75.dna.primary_assembly.fa\"\n",
    "GFF = \"/s/genomes/human/hg19/MISO/A5SS.hg19.nochr.selected.gff3\""
   ]
  },
  {
   "cell_type": "code",
   "execution_count": 6,
   "metadata": {
    "collapsed": true,
    "deletable": true,
    "editable": true
   },
   "outputs": [],
   "source": [
    "data = SplicingKmerDataset(GFF, \n",
    "                           fasta, \n",
    "                           select_fn= None, #get_A5SS_dt, otherwise return a dicionary with inputs, targets...\n",
    "                           iscounts=False)"
   ]
  },
  {
   "cell_type": "code",
   "execution_count": 7,
   "metadata": {
    "collapsed": false,
    "deletable": true,
    "editable": true
   },
   "outputs": [],
   "source": [
    "test = data[2]\n",
    "\n",
    "test\n",
    "\n",
    "seqs = test['inputs']['seq']"
   ]
  },
  {
   "cell_type": "code",
   "execution_count": 12,
   "metadata": {
    "collapsed": false,
    "deletable": true,
    "editable": true
   },
   "outputs": [
    {
     "data": {
      "text/plain": [
       "'GTAGAATGGGAACAAGATAGAATGAGGACAGCCCCTGTGGAGCTCACAGTGTAATCATTGTTCCTGTGTCTGCTCTCCCT'"
      ]
     },
     "execution_count": 12,
     "metadata": {},
     "output_type": "execute_result"
    }
   ],
   "source": [
    "seqs[0][-80:]"
   ]
  },
  {
   "cell_type": "code",
   "execution_count": 13,
   "metadata": {
    "collapsed": false
   },
   "outputs": [
    {
     "data": {
      "text/plain": [
       "'GTGAGTGTCGAGCTCACCGCACCGCCAGATCGTTCGATGCGCACACGGGGCGCTATACCTGCAACCCCTCCCCAACTCCTACTCGTCCTGCCACCCACTCTGGGGACCCCTCTCCTCTCTCAGGCAGCCAGTTGCTTCCTGCTTTGGGTTCCCAGGGCGCCCTCTGCAATGCTGGACAATAAGACTTCCTTCTCTCAGCTGAGATGGGTCATTCATTGACTCCTCAAACATTTTAAAAACCCTTGGTGTGTGCCAGGACCCGTGTTGGGCTCAGAACAAGGTAGAATGGGAACAAGATAGAATGAGGACAGCCCCTGTGGAGCTCACAGTGTAATCATTGTTCCTGTGTCTGCTCTCCCT'"
      ]
     },
     "execution_count": 13,
     "metadata": {},
     "output_type": "execute_result"
    }
   ],
   "source": [
    "seqs[0][80:]"
   ]
  },
  {
   "cell_type": "markdown",
   "metadata": {},
   "source": [
    "## Prediction"
   ]
  },
  {
   "cell_type": "code",
   "execution_count": 8,
   "metadata": {
    "collapsed": false,
    "deletable": true,
    "editable": true
   },
   "outputs": [],
   "source": [
    "data_generator = DataLoader(data, batch_size=3, collate_fn=numpy_collate, shuffle=True)\n",
    "data_generator = iter(data_generator)"
   ]
  },
  {
   "cell_type": "code",
   "execution_count": 17,
   "metadata": {
    "collapsed": false,
    "scrolled": true
   },
   "outputs": [],
   "source": [
    "HAL = HALModel()"
   ]
  },
  {
   "cell_type": "code",
   "execution_count": 24,
   "metadata": {
    "collapsed": false
   },
   "outputs": [
    {
     "data": {
      "text/plain": [
       "array([ 0.02372595,  0.99325667,  0.24242119])"
      ]
     },
     "execution_count": 24,
     "metadata": {},
     "output_type": "execute_result"
    }
   ],
   "source": [
    "HAL.predict_on_batch(next(data_generator))"
   ]
  },
  {
   "cell_type": "code",
   "execution_count": null,
   "metadata": {
    "collapsed": true
   },
   "outputs": [],
   "source": []
  }
 ],
 "metadata": {
  "anaconda-cloud": {},
  "kernelspec": {
   "display_name": "Python [default]",
   "language": "python",
   "name": "python3"
  },
  "language_info": {
   "codemirror_mode": {
    "name": "ipython",
    "version": 3
   },
   "file_extension": ".py",
   "mimetype": "text/x-python",
   "name": "python",
   "nbconvert_exporter": "python",
   "pygments_lexer": "ipython3",
   "version": "3.5.2"
  }
 },
 "nbformat": 4,
 "nbformat_minor": 2
}
